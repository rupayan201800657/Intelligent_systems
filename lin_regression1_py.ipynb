{
  "nbformat": 4,
  "nbformat_minor": 0,
  "metadata": {
    "colab": {
      "name": "lin_regression1.py",
      "provenance": [],
      "authorship_tag": "ABX9TyOk6zNPmRJvmN2L5ZUFCYV4",
      "include_colab_link": true
    },
    "kernelspec": {
      "name": "python3",
      "display_name": "Python 3"
    },
    "language_info": {
      "name": "python"
    }
  },
  "cells": [
    {
      "cell_type": "markdown",
      "metadata": {
        "id": "view-in-github",
        "colab_type": "text"
      },
      "source": [
        "<a href=\"https://colab.research.google.com/github/rupayan201800657/Intelligent_systems/blob/main/lin_regression1_py.ipynb\" target=\"_parent\"><img src=\"https://colab.research.google.com/assets/colab-badge.svg\" alt=\"Open In Colab\"/></a>"
      ]
    },
    {
      "cell_type": "markdown",
      "metadata": {
        "id": "N2lXLKSeBIwq"
      },
      "source": [
        "**Note**: We assume that \"TV\", \"Newspaper\" and \"Radio\" are the feature variables and \"Sales\" is the response variable."
      ]
    },
    {
      "cell_type": "code",
      "metadata": {
        "id": "QsgEhpsYNwwQ"
      },
      "source": [
        "import pandas\n",
        "from sklearn import linear_model\n",
        "from sklearn.model_selection import train_test_split\n",
        "import matplotlib.pyplot as plt\n",
        "\n",
        "print (\"\\nOutput:\\n=======\\n\")\n",
        "\n",
        "#data is present in the CSV file\n",
        "data = pandas.read_csv('Company_data.csv')\n",
        "\n",
        "print(['TV', 'Radio', 'Newspaper'], \" are the feature columns, \" + \n",
        "      \"whereas 'Sales' is the response column.\\n\")\n",
        "\n",
        "# Plotting of data  \n",
        "plt.title('Plot of Data')\n",
        "plt.xlabel('Advertising Expense')\n",
        "plt.ylabel('Sales')\n",
        "plt.scatter(data['TV'], data['Sales'], label = \"TV\")\n",
        "plt.scatter(data['Radio'], data['Sales'], label = \"Radio\")\n",
        "plt.scatter(data['Newspaper'], data['Sales'], label = \"Newspaper\")\n",
        "plt.legend(ncol=3, loc=\"lower right\")\n",
        "plt.show()\n",
        "\n",
        "#feature columns  \n",
        "features = data[['TV', 'Radio', 'Newspaper']]\n",
        "print(\"\\nFeature set shape (r, c):\", features.shape);\n",
        "print(\"\\nFeature set description:\\n\")\n",
        "print(features.describe())\n",
        "\n",
        "#response columns\n",
        "response = data['Sales']\n",
        "\n",
        "#split dataset into training and testing datasets\n",
        "features_train, features_test, response_train, response_test \\\n",
        "= train_test_split(features, response, test_size=0.2)\n",
        "\n",
        "#perform regression\n",
        "regression = linear_model.LinearRegression()\n",
        "model = regression.fit(features, response)\n",
        "\n",
        "print(\"\\nRegression Coefficients/Beta Values: \", model.coef_)\n",
        "print(\"\\nRegression Intercept/Alpha: \", model.intercept_)\n",
        "\n",
        "#predict a value using the model\n",
        "new_feature_data = [[160, 100, 60]]\n",
        "print(\"\\nPredicting sales for TV, Radio, Newspaper advertisement expenditure of \", \n",
        "      new_feature_data, \" we get: \", model.predict(new_feature_data))"
      ],
      "execution_count": null,
      "outputs": []
    }
  ]
}